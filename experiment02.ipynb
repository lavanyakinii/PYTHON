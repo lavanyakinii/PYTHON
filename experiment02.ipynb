{
 "cells": [
  {
   "cell_type": "markdown",
   "metadata": {},
   "source": [
    "### 66_Lavanya Kini"
   ]
  },
  {
   "cell_type": "code",
   "execution_count": 1,
   "metadata": {},
   "outputs": [
    {
     "name": "stdout",
     "output_type": "stream",
     "text": [
      "Developer is a full stack developer\n",
      "Developer\tTrue\tTrue\n"
     ]
    }
   ],
   "source": [
    "class Employee:\n",
    "    def __init__ (\n",
    "            self,\n",
    "            designation : str = 'Developer',\n",
    "            frontend : bool = True,\n",
    "            backend : bool = True\n",
    "    ):\n",
    "        self.designation = designation\n",
    "        self.frontend = frontend\n",
    "        self.backend = backend\n",
    "\n",
    "    def __repr__ (self):\n",
    "        return '{}\\t{}\\t{}'.format (self.designation, self.frontend, self.backend)\n",
    "\n",
    "    def verifier (self):\n",
    "        if self.frontend and self.backend:\n",
    "           return f'{self.designation} is a full stack developer'\n",
    "        elif self.frontend:\n",
    "          return f'{self.designation} is a frontend developer'\n",
    "        elif self.backend:\n",
    "          return f'{self.designation} is a backend developer'\n",
    "        else:\n",
    "          return  'nothing'\n",
    "\n",
    "\n",
    "if __name__ == '__main__':\n",
    "    firstEmployee = Employee()\n",
    "    print(firstEmployee.verifier())\n",
    "    print(firstEmployee)"
   ]
  }
 ],
 "metadata": {
  "kernelspec": {
   "display_name": "Python 3",
   "language": "python",
   "name": "python3"
  },
  "language_info": {
   "codemirror_mode": {
    "name": "ipython",
    "version": 3
   },
   "file_extension": ".py",
   "mimetype": "text/x-python",
   "name": "python",
   "nbconvert_exporter": "python",
   "pygments_lexer": "ipython3",
   "version": "3.12.2"
  }
 },
 "nbformat": 4,
 "nbformat_minor": 2
}
