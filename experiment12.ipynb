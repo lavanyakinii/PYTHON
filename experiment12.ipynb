{
  "cells": [
    {
      "cell_type": "markdown",
      "id": "e1ace469-8146-436d-a4e2-8ca634c9e201",
      "metadata": {
        "id": "e1ace469-8146-436d-a4e2-8ca634c9e201"
      },
      "source": [
        "### 66_Lavanya Kini"
      ]
    },
    {
      "cell_type": "markdown",
      "id": "bf9a9f6f-2acc-4cef-b553-66d0536a82dd",
      "metadata": {
        "id": "bf9a9f6f-2acc-4cef-b553-66d0536a82dd"
      },
      "source": [
        "##### Program to demonstrate DataFrame using Pandas"
      ]
    },
    {
      "cell_type": "code",
      "execution_count": null,
      "id": "eb3a034a-b2cf-4139-b000-74fa779d1e8c",
      "metadata": {
        "id": "eb3a034a-b2cf-4139-b000-74fa779d1e8c",
        "trusted": true
      },
      "outputs": [],
      "source": [
        "import pandas as pd"
      ]
    },
    {
      "cell_type": "markdown",
      "id": "49f6e98d-7338-45af-8597-193b0e7be875",
      "metadata": {
        "id": "49f6e98d-7338-45af-8597-193b0e7be875"
      },
      "source": [
        "##### Creating a DataFrame using a dictionary"
      ]
    },
    {
      "cell_type": "code",
      "execution_count": null,
      "id": "e3cd99d9-078d-4800-8767-a29772e1cc63",
      "metadata": {
        "id": "e3cd99d9-078d-4800-8767-a29772e1cc63",
        "trusted": true
      },
      "outputs": [],
      "source": [
        "data = {\n",
        "    'Name': ['Alice', 'Bob', 'Charlie', 'David'],\n",
        "    'Age': [24, 27, 22, 32],\n",
        "    'Marks': [85, 78, 90, 88]\n",
        "}"
      ]
    },
    {
      "cell_type": "code",
      "execution_count": null,
      "id": "14492cb0-2b07-41b1-80e5-62526885c9f2",
      "metadata": {
        "id": "14492cb0-2b07-41b1-80e5-62526885c9f2",
        "outputId": "537d0616-eaa6-4fd8-cdd9-6c1d43ed8c6e",
        "trusted": true
      },
      "outputs": [
        {
          "name": "stdout",
          "output_type": "stream",
          "text": [
            "Initial DataFrame:\n",
            "       Name  Age  Marks\n",
            "0    Alice   24     85\n",
            "1      Bob   27     78\n",
            "2  Charlie   22     90\n",
            "3    David   32     88\n"
          ]
        }
      ],
      "source": [
        "df = pd.DataFrame(data)\n",
        "print(\"Initial DataFrame:\\n\", df)"
      ]
    },
    {
      "cell_type": "markdown",
      "id": "97d0e135-6136-4fec-8fda-1caaa6ca0c74",
      "metadata": {
        "id": "97d0e135-6136-4fec-8fda-1caaa6ca0c74"
      },
      "source": [
        "##### Accessing columns"
      ]
    },
    {
      "cell_type": "code",
      "execution_count": null,
      "id": "23657051-42b0-4dc9-9204-573fccc6dad0",
      "metadata": {
        "id": "23657051-42b0-4dc9-9204-573fccc6dad0",
        "outputId": "6f650dc0-eb50-4518-de4d-d39ecb36e83e",
        "trusted": true
      },
      "outputs": [
        {
          "name": "stdout",
          "output_type": "stream",
          "text": [
            "Accessing 'Name' column:\n",
            " 0      Alice\n",
            "1        Bob\n",
            "2    Charlie\n",
            "3      David\n",
            "Name: Name, dtype: object\n"
          ]
        }
      ],
      "source": [
        "print(\"Accessing 'Name' column:\\n\", df['Name'])"
      ]
    },
    {
      "cell_type": "markdown",
      "id": "9701520e-0645-4557-a1c0-97b81e5170d7",
      "metadata": {
        "id": "9701520e-0645-4557-a1c0-97b81e5170d7"
      },
      "source": [
        "##### Adding a new column"
      ]
    },
    {
      "cell_type": "code",
      "execution_count": null,
      "id": "5c6dcad7-31ec-4e77-88ef-0490a3ae72d6",
      "metadata": {
        "id": "5c6dcad7-31ec-4e77-88ef-0490a3ae72d6",
        "outputId": "70236a44-9010-4571-9b1c-c6c6eb2b55f6",
        "trusted": true
      },
      "outputs": [
        {
          "name": "stdout",
          "output_type": "stream",
          "text": [
            "DataFrame after adding 'Grade' column:\n",
            "       Name  Age  Marks Grade\n",
            "0    Alice   24     85     B\n",
            "1      Bob   27     78     C\n",
            "2  Charlie   22     90     A\n",
            "3    David   32     88     A\n"
          ]
        }
      ],
      "source": [
        "df['Grade'] = ['B', 'C', 'A', 'A']\n",
        "print(\"DataFrame after adding 'Grade' column:\\n\", df)"
      ]
    },
    {
      "cell_type": "markdown",
      "id": "45785bc1-2399-4fdf-b76d-771f9d289262",
      "metadata": {
        "id": "45785bc1-2399-4fdf-b76d-771f9d289262"
      },
      "source": [
        "##### Accessing a specific row using loc"
      ]
    },
    {
      "cell_type": "code",
      "execution_count": null,
      "id": "498d107e-db86-42c9-82d0-c388de6500ec",
      "metadata": {
        "id": "498d107e-db86-42c9-82d0-c388de6500ec",
        "outputId": "94f6e528-ea41-4306-90a7-9b0e8f016f0a",
        "trusted": true
      },
      "outputs": [
        {
          "name": "stdout",
          "output_type": "stream",
          "text": [
            "Accessing row at index 2:\n",
            " Name     Charlie\n",
            "Age           22\n",
            "Marks         90\n",
            "Grade          A\n",
            "Name: 2, dtype: object\n"
          ]
        }
      ],
      "source": [
        "print(\"Accessing row at index 2:\\n\", df.loc[2])"
      ]
    },
    {
      "cell_type": "markdown",
      "id": "b33a63a2-7aac-409a-83df-8e3bc9b9d7c5",
      "metadata": {
        "id": "b33a63a2-7aac-409a-83df-8e3bc9b9d7c5"
      },
      "source": [
        "##### Accessing multiple rows using iloc"
      ]
    },
    {
      "cell_type": "code",
      "execution_count": null,
      "id": "bdab9c98-e3c5-4eb4-b4e3-b7e1915027be",
      "metadata": {
        "id": "bdab9c98-e3c5-4eb4-b4e3-b7e1915027be",
        "outputId": "312ef471-aa3f-4106-ae38-dbc8837211d0",
        "trusted": true
      },
      "outputs": [
        {
          "name": "stdout",
          "output_type": "stream",
          "text": [
            "Accessing rows from index 1 to 3:\n",
            "       Name  Age  Marks Grade\n",
            "1      Bob   27     78     C\n",
            "2  Charlie   22     90     A\n",
            "3    David   32     88     A\n"
          ]
        }
      ],
      "source": [
        "print(\"Accessing rows from index 1 to 3:\\n\", df.iloc[1:4])"
      ]
    },
    {
      "cell_type": "markdown",
      "id": "7741d0e2-488c-46a3-889c-e25fbb00f8c5",
      "metadata": {
        "id": "7741d0e2-488c-46a3-889c-e25fbb00f8c5"
      },
      "source": [
        "##### Filtering data"
      ]
    },
    {
      "cell_type": "code",
      "execution_count": null,
      "id": "e67018b8-ec96-496d-af89-d9bda6577ad5",
      "metadata": {
        "id": "e67018b8-ec96-496d-af89-d9bda6577ad5",
        "outputId": "f61e2f99-433b-4078-a785-497d22c9891c",
        "trusted": true
      },
      "outputs": [
        {
          "name": "stdout",
          "output_type": "stream",
          "text": [
            "Students scoring above 85 marks:\n",
            "       Name  Age  Marks Grade\n",
            "2  Charlie   22     90     A\n",
            "3    David   32     88     A\n"
          ]
        }
      ],
      "source": [
        "high_scorers = df[df['Marks'] > 85]\n",
        "print(\"Students scoring above 85 marks:\\n\", high_scorers)"
      ]
    },
    {
      "cell_type": "markdown",
      "id": "1836f3b1-8ce0-4d64-bd80-7673118f49fe",
      "metadata": {
        "id": "1836f3b1-8ce0-4d64-bd80-7673118f49fe"
      },
      "source": [
        "##### Basic statistics"
      ]
    },
    {
      "cell_type": "code",
      "execution_count": null,
      "id": "17d5fb6a-9b39-4639-aa08-0d866c6c78f1",
      "metadata": {
        "id": "17d5fb6a-9b39-4639-aa08-0d866c6c78f1",
        "outputId": "1ce91aeb-c57f-4e53-fc5e-788836be8d83",
        "trusted": true
      },
      "outputs": [
        {
          "name": "stdout",
          "output_type": "stream",
          "text": [
            "Statistical summary:\n",
            "              Age      Marks\n",
            "count   4.000000   4.000000\n",
            "mean   26.250000  85.250000\n",
            "std     4.349329   5.251984\n",
            "min    22.000000  78.000000\n",
            "25%    23.500000  83.250000\n",
            "50%    25.500000  86.500000\n",
            "75%    28.250000  88.500000\n",
            "max    32.000000  90.000000\n"
          ]
        }
      ],
      "source": [
        "print(\"Statistical summary:\\n\", df.describe())"
      ]
    }
  ],
  "metadata": {
    "colab": {
      "provenance": []
    },
    "kernelspec": {
      "display_name": "Python (Pyodide)",
      "language": "python",
      "name": "python"
    },
    "language_info": {
      "codemirror_mode": {
        "name": "python",
        "version": 3
      },
      "file_extension": ".py",
      "mimetype": "text/x-python",
      "name": "python",
      "nbconvert_exporter": "python",
      "pygments_lexer": "ipython3",
      "version": "3.8"
    }
  },
  "nbformat": 4,
  "nbformat_minor": 5
}
