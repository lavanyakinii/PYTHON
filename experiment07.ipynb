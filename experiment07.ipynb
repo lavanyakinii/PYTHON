{
 "cells": [
  {
   "cell_type": "markdown",
   "id": "d6fd6538-f968-4d12-81fe-ef73ec3e0758",
   "metadata": {},
   "source": [
    "### 66_Lavanya Kini"
   ]
  },
  {
   "cell_type": "code",
   "execution_count": null,
   "id": "43b12001-6e7b-467e-9d27-17760712f377",
   "metadata": {},
   "outputs": [],
   "source": [
    "import socket\n",
    "\n",
    "PORT = 5050\n",
    "SERVER = socket.gethostbyname(socket.gethostname())\n",
    "ADDR = (SERVER, PORT)\n",
    "HEADER = 64\n",
    "FORMAT = 'utf-8'\n",
    "DISCONNECT_MESSAGE = '!DISCONNECT'\n",
    "\n",
    "server = socket.socket(socket.AF_INET, socket.SOCK_STREAM)\n",
    "server.bind(ADDR)\n",
    "server.listen(5)\n",
    "print(f\"Server is listening on {SERVER}:{PORT}\")\n",
    "\n",
    "def handle_client(client_socket):\n",
    "    print(\"New connection established.\")\n",
    "    connected = True\n",
    "    while connected:\n",
    "        message_length = client_socket.recv(HEADER).decode(FORMAT)\n",
    "        if message_length:\n",
    "            message_length = int(message_length)\n",
    "            message = client_socket.recv(message_length).decode(FORMAT)\n",
    "            if message == DISCONNECT_MESSAGE:\n",
    "                connected = False\n",
    "            print(f\"Received message: {message}\")\n",
    "            client_socket.send(\"Message received!\".encode(FORMAT))\n",
    "    client_socket.close()\n",
    "\n",
    "if __name__ == \"__main__\":\n",
    "    while True:\n",
    "        client_socket, client_address = server.accept()\n",
    "        handle_client(client_socket)\n"
   ]
  }
 ],
 "metadata": {
  "kernelspec": {
   "display_name": "Python 3 (ipykernel)",
   "language": "python",
   "name": "python3"
  },
  "language_info": {
   "codemirror_mode": {
    "name": "ipython",
    "version": 3
   },
   "file_extension": ".py",
   "mimetype": "text/x-python",
   "name": "python",
   "nbconvert_exporter": "python",
   "pygments_lexer": "ipython3",
   "version": "3.12.0"
  }
 },
 "nbformat": 4,
 "nbformat_minor": 5
}
