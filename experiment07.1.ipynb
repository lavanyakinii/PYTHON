{
 "cells": [
  {
   "cell_type": "markdown",
   "id": "e323d129-29b1-4396-bdd9-db3c95bbae48",
   "metadata": {},
   "source": [
    "### 66_Lavanya Kini"
   ]
  },
  {
   "cell_type": "code",
   "execution_count": null,
   "id": "54839ee4-5c4b-4bda-8ce3-37f4da23b9ff",
   "metadata": {},
   "outputs": [],
   "source": [
    "import socket\n",
    "import threading\n",
    "\n",
    "PORT = 5050\n",
    "SERVER = socket.gethostbyname(socket.gethostname())  # Get local machine IP\n",
    "ADDR = (SERVER, PORT)\n",
    "FORMAT = 'utf-8'\n",
    "HEADER = 64\n",
    "DISCONNECT_MESSAGE = '!DISCONNECT'\n",
    "\n",
    "server = socket.socket(socket.AF_INET, socket.SOCK_STREAM)\n",
    "\n",
    "# Adding error handling to bind\n",
    "try:\n",
    "    server.bind(ADDR)\n",
    "    print(f'[SERVER STARTED] Server is listening on {SERVER}:{PORT}')\n",
    "except socket.error as e:\n",
    "    print(f'[ERROR] Failed to bind the server: {e}')\n",
    "    exit()\n",
    "\n",
    "def clientHandling(connection, address):\n",
    "    print(f'[NEW CONNECTION] {address} connected')\n",
    "    isConnected = True\n",
    "    while isConnected:\n",
    "        try:\n",
    "            messageLength = connection.recv(HEADER).decode(FORMAT)\n",
    "            if messageLength:\n",
    "                messageLength = int(messageLength)\n",
    "                message = connection.recv(messageLength).decode(FORMAT)\n",
    "                if message == DISCONNECT_MESSAGE:\n",
    "                    isConnected = False\n",
    "                print(f'[{address}] {message}')\n",
    "                connection.send('Message Received'.encode(FORMAT))\n",
    "        except Exception as e:\n",
    "            print(f'[ERROR] Error handling client {address}: {e}')\n",
    "            break\n",
    "\n",
    "    connection.close()\n",
    "    print(f'[CONNECTION CLOSED] {address} disconnected')\n",
    "\n",
    "def start():\n",
    "    server.listen()\n",
    "    print(f'[LISTENING] Server is now listening on {SERVER}')\n",
    "    while True:\n",
    "        try:\n",
    "            connection, address = server.accept()\n",
    "            thread = threading.Thread(target=clientHandling, args=(connection, address))\n",
    "            thread.start()\n",
    "            print(f'[ACTIVE CONNECTIONS] {threading.active_count() - 1}')\n",
    "        except Exception as e:\n",
    "            print(f'[ERROR] Error accepting new connection: {e}')\n",
    "\n",
    "print('[SERVER STARTING] Server is being started...')\n",
    "start()"
   ]
  }
 ],
 "metadata": {
  "kernelspec": {
   "display_name": "Python 3 (ipykernel)",
   "language": "python",
   "name": "python3"
  },
  "language_info": {
   "codemirror_mode": {
    "name": "ipython",
    "version": 3
   },
   "file_extension": ".py",
   "mimetype": "text/x-python",
   "name": "python",
   "nbconvert_exporter": "python",
   "pygments_lexer": "ipython3",
   "version": "3.12.0"
  }
 },
 "nbformat": 4,
 "nbformat_minor": 5
}
