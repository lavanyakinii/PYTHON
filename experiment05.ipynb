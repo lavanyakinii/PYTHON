{
 "cells": [
  {
   "cell_type": "markdown",
   "id": "b40c7a1d-978e-4f1c-8e3d-91c889a2bfa0",
   "metadata": {},
   "source": [
    "### 66_Lavanya Kini"
   ]
  },
  {
   "cell_type": "code",
   "execution_count": 1,
   "id": "08eeb14c-712d-40e5-8f9b-46462affe980",
   "metadata": {},
   "outputs": [
    {
     "name": "stdout",
     "output_type": "stream",
     "text": [
      "Input: (1+(2*3)+((8)/4))+1\n",
      "Output: 3\n",
      "\n",
      "Input: (1)+((2))+(((3)))\n",
      "Output: 3\n",
      "\n",
      "Input: ()(())((()()))\n",
      "Output: 3\n"
     ]
    }
   ],
   "source": [
    "class StackDepth:\n",
    "    def maximumDepth(self, stringInput: str) -> int:\n",
    "        max_depth = 0\n",
    "        current_depth = 0\n",
    "        for char in stringInput:\n",
    "            if char == '(':\n",
    "                current_depth += 1\n",
    "                max_depth = max(max_depth, current_depth)\n",
    "            elif char == ')':\n",
    "                current_depth -= 1\n",
    "        return max_depth\n",
    "\n",
    "stack_depth = StackDepth()\n",
    "\n",
    "s1 = \"(1+(2*3)+((8)/4))+1\"\n",
    "print(f\"Input: {s1}\")\n",
    "print(f\"Output: {stack_depth.maximumDepth(s1)}\\n\")\n",
    "\n",
    "s2 = \"(1)+((2))+(((3)))\"\n",
    "print(f\"Input: {s2}\")\n",
    "print(f\"Output: {stack_depth.maximumDepth(s2)}\\n\")\n",
    "\n",
    "s3 = \"()(())((()()))\"\n",
    "print(f\"Input: {s3}\")\n",
    "print(f\"Output: {stack_depth.maximumDepth(s3)}\")"
   ]
  }
 ],
 "metadata": {
  "kernelspec": {
   "display_name": "Python 3 (ipykernel)",
   "language": "python",
   "name": "python3"
  },
  "language_info": {
   "codemirror_mode": {
    "name": "ipython",
    "version": 3
   },
   "file_extension": ".py",
   "mimetype": "text/x-python",
   "name": "python",
   "nbconvert_exporter": "python",
   "pygments_lexer": "ipython3",
   "version": "3.12.0"
  }
 },
 "nbformat": 4,
 "nbformat_minor": 5
}
