{
 "cells": [
  {
   "cell_type": "markdown",
   "id": "92f58da6-4639-4877-a1b8-943087dc606e",
   "metadata": {},
   "source": [
    "### 66_Lavanya Kini"
   ]
  },
  {
   "cell_type": "code",
   "execution_count": 5,
   "id": "ed5f5437-4ef8-46fe-8449-8baaddb71096",
   "metadata": {},
   "outputs": [
    {
     "name": "stdout",
     "output_type": "stream",
     "text": [
      "Files in the current directory:\n",
      "66_RTOS_Article.pdf\n",
      "Assignment01.pdf\n",
      "experiment04.ipynb\n",
      "file.txt\n",
      "lowercase.png\n",
      "uppercase.png\n"
     ]
    }
   ],
   "source": [
    "import os\n",
    "\n",
    "files = [f for f in os.listdir('.') if os.path.isfile(f)]\n",
    "\n",
    "print(\"Files in the current directory:\")\n",
    "for file in files:\n",
    "    print(file)"
   ]
  }
 ],
 "metadata": {
  "kernelspec": {
   "display_name": "Python 3 (ipykernel)",
   "language": "python",
   "name": "python3"
  },
  "language_info": {
   "codemirror_mode": {
    "name": "ipython",
    "version": 3
   },
   "file_extension": ".py",
   "mimetype": "text/x-python",
   "name": "python",
   "nbconvert_exporter": "python",
   "pygments_lexer": "ipython3",
   "version": "3.12.0"
  }
 },
 "nbformat": 4,
 "nbformat_minor": 5
}
